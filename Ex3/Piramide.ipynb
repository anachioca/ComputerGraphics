{
 "cells": [
  {
   "cell_type": "code",
   "execution_count": 43,
   "metadata": {},
   "outputs": [],
   "source": [
    "import glfw\n",
    "from OpenGL.GL import *\n",
    "import OpenGL.GL.shaders\n",
    "import numpy as np"
   ]
  },
  {
   "cell_type": "code",
   "execution_count": 44,
   "metadata": {},
   "outputs": [],
   "source": [
    "glfw.init()\n",
    "glfw.window_hint(glfw.VISIBLE, glfw.FALSE);\n",
    "window = glfw.create_window(700, 700, \"Pirâmide\", None, None)\n",
    "glfw.make_context_current(window)"
   ]
  },
  {
   "cell_type": "code",
   "execution_count": 45,
   "metadata": {},
   "outputs": [],
   "source": [
    "vertex_code = \"\"\"\n",
    "        attribute vec3 position;\n",
    "        uniform mat4 mat_transformation;\n",
    "        void main(){\n",
    "            gl_Position = mat_transformation * vec4(position,1.0);\n",
    "        }\n",
    "        \"\"\""
   ]
  },
  {
   "cell_type": "code",
   "execution_count": 46,
   "metadata": {},
   "outputs": [],
   "source": [
    "fragment_code = \"\"\"\n",
    "        uniform vec4 color;\n",
    "        void main(){\n",
    "            gl_FragColor = color;\n",
    "        }\n",
    "        \"\"\""
   ]
  },
  {
   "cell_type": "code",
   "execution_count": 47,
   "metadata": {},
   "outputs": [],
   "source": [
    "# Request a program and shader slots from GPU\n",
    "program  = glCreateProgram()\n",
    "vertex   = glCreateShader(GL_VERTEX_SHADER)\n",
    "fragment = glCreateShader(GL_FRAGMENT_SHADER)\n"
   ]
  },
  {
   "cell_type": "code",
   "execution_count": 48,
   "metadata": {},
   "outputs": [],
   "source": [
    "# Set shaders source\n",
    "glShaderSource(vertex, vertex_code)\n",
    "glShaderSource(fragment, fragment_code)"
   ]
  },
  {
   "cell_type": "code",
   "execution_count": 49,
   "metadata": {},
   "outputs": [],
   "source": [
    "# Compile shaders\n",
    "glCompileShader(vertex)\n",
    "if not glGetShaderiv(vertex, GL_COMPILE_STATUS):\n",
    "    error = glGetShaderInfoLog(vertex).decode()\n",
    "    print(error)\n",
    "    raise RuntimeError(\"Erro de compilacao do Vertex Shader\")\n"
   ]
  },
  {
   "cell_type": "code",
   "execution_count": 50,
   "metadata": {},
   "outputs": [],
   "source": [
    "glCompileShader(fragment)\n",
    "if not glGetShaderiv(fragment, GL_COMPILE_STATUS):\n",
    "    error = glGetShaderInfoLog(fragment).decode()\n",
    "    print(error)\n",
    "    raise RuntimeError(\"Erro de compilacao do Fragment Shader\")"
   ]
  },
  {
   "cell_type": "code",
   "execution_count": 51,
   "metadata": {},
   "outputs": [],
   "source": [
    "# Attach shader objects to the program\n",
    "glAttachShader(program, vertex)\n",
    "glAttachShader(program, fragment)\n"
   ]
  },
  {
   "cell_type": "code",
   "execution_count": 52,
   "metadata": {},
   "outputs": [],
   "source": [
    "# Build program\n",
    "glLinkProgram(program)\n",
    "if not glGetProgramiv(program, GL_LINK_STATUS):\n",
    "    print(glGetProgramInfoLog(program))\n",
    "    raise RuntimeError('Linking error')\n",
    "    \n",
    "# Make program the default program\n",
    "glUseProgram(program)"
   ]
  },
  {
   "cell_type": "code",
   "execution_count": 53,
   "metadata": {},
   "outputs": [],
   "source": [
    "# preparando espaço para 24 vértices usando 3 coordenadas (x,y,z)\n",
    "vertices = np.zeros(16, [(\"position\", np.float32, 3)])"
   ]
  },
  {
   "cell_type": "code",
   "execution_count": 54,
   "metadata": {},
   "outputs": [],
   "source": [
    "# preenchendo as coordenadas de cada vértice\n",
    "vertices['position'] = [\n",
    "    # Face 1 da Pirâmide\n",
    "    (-0.5,  0.0, +0.5),\n",
    "    (+0.5,  0.0, +0.5),\n",
    "    ( 0.0, +1.0, +0.0),\n",
    "\n",
    "    # Face 2 da Pirâmide\n",
    "    (+0.5,  0.0, +0.5),\n",
    "    (+0.5,  0.0, -0.5),         \n",
    "    (+0.0, +1.0, +0.0),\n",
    "    \n",
    "    # Face 3 da Pirâmide\n",
    "    (+0.5,  0.0, -0.5),\n",
    "    (-0.5,  0.0, -0.5),            \n",
    "    (+0.0, +1.0,  0.0),\n",
    "\n",
    "    # Face 4 da Pirâmide\n",
    "    (-0.5,  0.0, -0.5),\n",
    "    (-0.5,  0.0, +0.5),         \n",
    "    ( 0.0, +1.0,  0.0),\n",
    "    \n",
    "    # Face base da Pirâmide\n",
    "    (+0.5,  0.0, -0.5),\n",
    "    (-0.5,  0.0, -0.5),\n",
    "    (+0.5,  0.0, +0.5),            \n",
    "    (-0.5,  0.0, +0.5)\n",
    "    \n",
    "]"
   ]
  },
  {
   "cell_type": "code",
   "execution_count": 55,
   "metadata": {},
   "outputs": [],
   "source": [
    "# Request a buffer slot from GPU\n",
    "buffer = glGenBuffers(1)\n",
    "# Make this buffer the default one\n",
    "glBindBuffer(GL_ARRAY_BUFFER, buffer)\n"
   ]
  },
  {
   "cell_type": "code",
   "execution_count": 56,
   "metadata": {},
   "outputs": [],
   "source": [
    "# Upload data\n",
    "glBufferData(GL_ARRAY_BUFFER, vertices.nbytes, vertices, GL_DYNAMIC_DRAW)\n",
    "glBindBuffer(GL_ARRAY_BUFFER, buffer)"
   ]
  },
  {
   "cell_type": "code",
   "execution_count": 57,
   "metadata": {},
   "outputs": [],
   "source": [
    "# Bind the position attribute\n",
    "# --------------------------------------\n",
    "stride = vertices.strides[0]\n",
    "offset = ctypes.c_void_p(0)\n"
   ]
  },
  {
   "cell_type": "code",
   "execution_count": 58,
   "metadata": {},
   "outputs": [],
   "source": [
    "loc = glGetAttribLocation(program, \"position\")\n",
    "glEnableVertexAttribArray(loc)"
   ]
  },
  {
   "cell_type": "code",
   "execution_count": 59,
   "metadata": {},
   "outputs": [],
   "source": [
    "glVertexAttribPointer(loc, 3, GL_FLOAT, False, stride, offset)"
   ]
  },
  {
   "cell_type": "code",
   "execution_count": 60,
   "metadata": {},
   "outputs": [],
   "source": [
    "loc_color = glGetUniformLocation(program, \"color\")"
   ]
  },
  {
   "cell_type": "code",
   "execution_count": 61,
   "metadata": {},
   "outputs": [],
   "source": [
    "\n",
    "s_x = 1.0\n",
    "s_y = 1.0\n",
    "s_z = 1.0\n",
    "\n",
    "t_x = 0.0\n",
    "t_y = 0.0\n",
    "t_z = 0.0\n",
    "\n",
    "stopRotation = 0\n",
    "\n",
    "def key_event(window,key,scancode,action,mods):\n",
    "    global t_x, t_y, t_z, s_x, s_y, s_z, stopRotation\n",
    "    if key == 87: t_y += 0.01 #cima W\n",
    "    if key == 83: t_y -= 0.01 #baixo S\n",
    "    if key == 65: t_x -= 0.01 #esquerda A\n",
    "    if key == 68: t_x += 0.01 #direita D\n",
    "    if key == 69: t_z += 0.01 #eixo z (tecla E)\n",
    "    if key == 81: t_z -= 0.01 #eixo z (tecla Q)\n",
    "\n",
    "\n",
    "    if key == 263: # seta esquerda\n",
    "        s_x += 0.01 \n",
    "        s_y += 0.01\n",
    "        s_z += 0.01\n",
    "    if key == 262: # seta direita\n",
    "        s_x -= 0.01 \n",
    "        s_y -= 0.01\n",
    "        s_z -= 0.01\n",
    "    \n",
    "    if key == 32: \n",
    "        if stopRotation == 0: \n",
    "            stopRotation = 1\n",
    "        \n",
    "glfw.set_key_callback(window,key_event)"
   ]
  },
  {
   "cell_type": "code",
   "execution_count": 62,
   "metadata": {},
   "outputs": [],
   "source": [
    "glfw.show_window(window)"
   ]
  },
  {
   "cell_type": "code",
   "execution_count": 63,
   "metadata": {},
   "outputs": [],
   "source": [
    "import math\n",
    "d = 0.0\n",
    "glEnable(GL_DEPTH_TEST) ### importante para 3D\n",
    "\n",
    "from numpy import random\n",
    "\n",
    "\n",
    "def multiplica_matriz(a,b):\n",
    "    m_a = a.reshape(4,4)\n",
    "    m_b = b.reshape(4,4)\n",
    "    m_c = np.dot(m_a,m_b)\n",
    "    c = m_c.reshape(1,16)\n",
    "    return c\n",
    "\n",
    "while not glfw.window_should_close(window):\n",
    "\n",
    "    glfw.poll_events() \n",
    "    \n",
    "    ### apenas para visualizarmos o cubo rotacionando\n",
    "    if stopRotation == 0:\n",
    "        d += 0.0001 # modifica o angulo de rotacao em cada iteracao\n",
    "    cos_d = math.cos(d)\n",
    "    sin_d = math.sin(d)\n",
    "    \n",
    "    \n",
    "    glClear(GL_COLOR_BUFFER_BIT | GL_DEPTH_BUFFER_BIT)\n",
    "    \n",
    "    glClearColor(1.0, 1.0, 1.0, 1.0)\n",
    "    \n",
    "    mat_rotation_z = np.matrix([    [cos_d, -sin_d, 0.0, 0.0], \n",
    "                                    [sin_d,  cos_d, 0.0, 0.0], \n",
    "                                    [0.0,      0.0, 1.0, 0.0], \n",
    "                                    [0.0,      0.0, 0.0, 1.0]], np.float32)\n",
    "    \n",
    "    mat_rotation_x = np.matrix([    [1.0,   0.0,    0.0, 0.0], \n",
    "                                    [0.0, cos_d, -sin_d, 0.0], \n",
    "                                    [0.0, sin_d,  cos_d, 0.0], \n",
    "                                    [0.0,   0.0,    0.0, 1.0]], np.float32)\n",
    "    \n",
    "    mat_rotation_y = np.matrix([    [cos_d,  0.0, sin_d, 0.0], \n",
    "                                    [0.0,    1.0,   0.0, 0.0], \n",
    "                                    [-sin_d, 0.0, cos_d, 0.0], \n",
    "                                    [0.0,    0.0,   0.0, 1.0]], np.float32)\n",
    "    \n",
    "    mat_translation = np.matrix([   [1.0, 0.0, 0.0, t_x], \n",
    "                                    [0.0, 1.0, 0.0, t_y], \n",
    "                                    [0.0, 0.0, 1.0, t_z], \n",
    "                                    [0.0, 0.0, 0.0, 1.0]], np.float32)\n",
    "\n",
    "    mat_scale = np.matrix([   [s_x, 0.0, 0.0, 0.0], \n",
    "                              [0.0, s_y, 0.0, 0.0], \n",
    "                              [0.0, 0.0, s_z, 0.0], \n",
    "                              [0.0, 0.0, 0.0, 1.0]], np.float32)\n",
    "    \n",
    "    mat_rotation = mat_rotation_x @ mat_rotation_y @ mat_rotation_z\n",
    "    mat_transform = mat_translation @ mat_scale @ mat_rotation\n",
    "\n",
    "\n",
    "\n",
    "    loc = glGetUniformLocation(program, \"mat_transformation\")\n",
    "    glUniformMatrix4fv(loc, 1, GL_TRUE, mat_transform)\n",
    "\n",
    "    #glPolygonMode(GL_FRONT_AND_BACK,GL_LINE)\n",
    "   \n",
    "    \n",
    "    glUniform4f(loc_color, 0.643, 0.290, 0.247, 1.0) ### vermelho escuro\n",
    "    glDrawArrays(GL_TRIANGLE_STRIP, 0, 3)\n",
    "    \n",
    "    glUniform4f(loc_color, 0.945, 0.611, 0.474, 1.0) ### vermelho claro\n",
    "    glDrawArrays(GL_TRIANGLE_STRIP, 3, 3)\n",
    "    \n",
    "    glUniform4f(loc_color, 0.796, 0.874, 0.741, 1.0) ### verde menta\n",
    "    glDrawArrays(GL_TRIANGLE_STRIP, 6, 3)\n",
    "    \n",
    "    glUniform4f(loc_color, 0.964, 0.956, 0.823, 1.0) ### amarelo claro\n",
    "    glDrawArrays(GL_TRIANGLE_STRIP, 9, 3)\n",
    "    \n",
    "    glUniform4f(loc_color, 0.831, 0.878, 0.607, 1.0) ### verde\n",
    "    glDrawArrays(GL_TRIANGLE_STRIP, 12, 4)\n",
    "    \n",
    "    \n",
    "    glfw.swap_buffers(window)\n",
    "\n",
    "glfw.terminate()"
   ]
  }
 ],
 "metadata": {
  "finalized": {
   "timestamp": 1583114796072,
   "trusted": true
  },
  "kernelspec": {
   "name": "python38564bitb092ec9ef1f142fcb39ba385da4c09c1",
   "display_name": "Python 3.8.5 64-bit"
  },
  "language_info": {
   "codemirror_mode": {
    "name": "ipython",
    "version": 3
   },
   "file_extension": ".py",
   "mimetype": "text/x-python",
   "name": "python",
   "nbconvert_exporter": "python",
   "pygments_lexer": "ipython3",
   "version": "3.8.5"
  },
  "metadata": {
   "interpreter": {
    "hash": "31f2aee4e71d21fbe5cf8b01ff0e069b9275f58929596ceb00d14d90e3e16cd6"
   }
  }
 },
 "nbformat": 4,
 "nbformat_minor": 2
}