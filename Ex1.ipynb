{
 "cells": [
  {
   "cell_type": "markdown",
   "metadata": {},
   "source": [
    "# Exercício 1 - Computação Gráfica"
   ]
  },
  {
   "cell_type": "markdown",
   "metadata": {},
   "source": [
    "### Aluna: Ana Laura Chioca Vieira\n",
    "Foram utilizadas, nesta ordem, as seguintes primitivas: pontos (estrelas), círculos (sol), quadrado (chão), triângulos (montanhas) e linhas (nome)."
   ]
  },
  {
   "cell_type": "code",
   "execution_count": 1,
   "metadata": {},
   "outputs": [],
   "source": [
    "import glfw\n",
    "from OpenGL.GL import *\n",
    "import OpenGL.GL.shaders\n",
    "import numpy as np\n",
    "import random"
   ]
  },
  {
   "cell_type": "code",
   "execution_count": 2,
   "metadata": {},
   "outputs": [],
   "source": [
    "glfw.init()\n",
    "glfw.window_hint(glfw.VISIBLE, glfw.FALSE);\n",
    "window = glfw.create_window(720, 720, \"Cores\", None, None)\n",
    "glfw.make_context_current(window)"
   ]
  },
  {
   "cell_type": "code",
   "execution_count": 3,
   "metadata": {},
   "outputs": [],
   "source": [
    "# Capturando eventos de teclado e mouse\n",
    "\n",
    "def key_event(window,key,scancode,action,mods):\n",
    "    print('[key event] key=',key)\n",
    "    print('[key event] scancode=',scancode)\n",
    "    print('[key event] action=',action)\n",
    "    print('[key event] mods=',mods)\n",
    "    print('-------')\n",
    "    \n",
    "glfw.set_key_callback(window,key_event)\n",
    "\n",
    "def mouse_event(window,button,action,mods):\n",
    "    print('[mouse event] button=',button)\n",
    "    print('[mouse event] action=',action)\n",
    "    print('[mouse event] mods=',mods)\n",
    "    print('-------')\n",
    "glfw.set_mouse_button_callback(window,mouse_event)"
   ]
  },
  {
   "cell_type": "code",
   "execution_count": 4,
   "metadata": {},
   "outputs": [],
   "source": [
    "vertex_code = \"\"\"\n",
    "        attribute vec2 position;\n",
    "        void main(){\n",
    "            gl_Position = vec4(position,0.0,1.0);\n",
    "        }\n",
    "        \"\"\""
   ]
  },
  {
   "cell_type": "code",
   "execution_count": 5,
   "metadata": {},
   "outputs": [],
   "source": [
    "fragment_code = \"\"\"\n",
    "        uniform vec4 color;\n",
    "        void main(){\n",
    "            gl_FragColor = color;\n",
    "        }\n",
    "        \"\"\""
   ]
  },
  {
   "cell_type": "code",
   "execution_count": 6,
   "metadata": {},
   "outputs": [],
   "source": [
    "# Request a program and shader slots from GPU\n",
    "program  = glCreateProgram()\n",
    "vertex   = glCreateShader(GL_VERTEX_SHADER)\n",
    "fragment = glCreateShader(GL_FRAGMENT_SHADER)\n"
   ]
  },
  {
   "cell_type": "code",
   "execution_count": 7,
   "metadata": {},
   "outputs": [],
   "source": [
    "# Set shaders source\n",
    "glShaderSource(vertex, vertex_code)\n",
    "glShaderSource(fragment, fragment_code)"
   ]
  },
  {
   "cell_type": "code",
   "execution_count": 8,
   "metadata": {},
   "outputs": [],
   "source": [
    "# Compile shaders\n",
    "glCompileShader(vertex)\n",
    "if not glGetShaderiv(vertex, GL_COMPILE_STATUS):\n",
    "    error = glGetShaderInfoLog(vertex).decode()\n",
    "    print(error)\n",
    "    raise RuntimeError(\"Erro de compilacao do Vertex Shader\")\n"
   ]
  },
  {
   "cell_type": "code",
   "execution_count": 9,
   "metadata": {},
   "outputs": [],
   "source": [
    "glCompileShader(fragment)\n",
    "if not glGetShaderiv(fragment, GL_COMPILE_STATUS):\n",
    "    error = glGetShaderInfoLog(fragment).decode()\n",
    "    print(error)\n",
    "    raise RuntimeError(\"Erro de compilacao do Fragment Shader\")"
   ]
  },
  {
   "cell_type": "code",
   "execution_count": 10,
   "metadata": {},
   "outputs": [],
   "source": [
    "# Attach shader objects to the program\n",
    "glAttachShader(program, vertex)\n",
    "glAttachShader(program, fragment)\n"
   ]
  },
  {
   "cell_type": "code",
   "execution_count": 11,
   "metadata": {},
   "outputs": [],
   "source": [
    "# Build program\n",
    "glLinkProgram(program)\n",
    "if not glGetProgramiv(program, GL_LINK_STATUS):\n",
    "    print(glGetProgramInfoLog(program))\n",
    "    raise RuntimeError('Linking error')\n",
    "    \n",
    "# Make program the default program\n",
    "glUseProgram(program)"
   ]
  },
  {
   "cell_type": "code",
   "execution_count": 12,
   "metadata": {},
   "outputs": [],
   "source": [
    "# preparando espaço para 3 vértices usando 2 coordenadas (x,y)\n",
    "# vertices = np.zeros(44, [(\"position\", np.float32, 2)])"
   ]
  },
  {
   "cell_type": "code",
   "execution_count": 13,
   "metadata": {},
   "outputs": [],
   "source": [
    "# # preenchendo as coordenadas de cada vértice\n",
    "# vertices['position'] = [\n",
    "#                             ( 1.0, 1.0), # vertice 0\n",
    "#                             ( 0.75, 0.8), # vertice 0\n",
    "#                             ( 0.5, 1.0), # vertice 1\n",
    "#                             ( 0.5, 1.0), # vertice 1\n",
    "#                             ( 0.25, 0.8), # vertice 0\n",
    "#                             ( 0.0, 1.0), # vertice 2\n",
    "#                             ( 0.0, 1.0), # vertice 2\n",
    "#                             (-0.25, 0.8), # vertice 0\n",
    "#                             (-0.5, 1.0), # vertice 3\n",
    "#                             (-0.5, 1.0), # vertice 3\n",
    "#                             (-0.75, 0.8), # vertice 0\n",
    "#                             (-1.0, 1.0), # vertice 4\n",
    "#                         ]"
   ]
  },
  {
   "cell_type": "code",
   "execution_count": 14,
   "metadata": {},
   "outputs": [],
   "source": [
    "import math # para calculo com sin e cos\n",
    "\n",
    "num_vertices = 32 # define a \"qualidade\" do circulo\n",
    "pi = 3.14\n",
    "counter = 0\n",
    "radius = 0.53\n",
    "vertices = np.zeros(399, [(\"position\", np.float32, 2)])\n",
    "\n",
    "angle = 0.0\n",
    "for counter in range(32):\n",
    "    angle += 2*pi/num_vertices \n",
    "    x = math.cos(angle)*radius\n",
    "    y = -0.1 + math.sin(angle)*radius\n",
    "    vertices[counter] = [x,y]\n",
    "\n",
    "radius = 0.6\n",
    "angle = 0.0\n",
    "for counter in range(32, 64):\n",
    "    angle += 2*pi/num_vertices \n",
    "    x = math.cos(angle)*radius\n",
    "    y = -0.1 + math.sin(angle)*radius\n",
    "    vertices[counter] = [x,y]\n",
    "\n",
    "radius = 0.67\n",
    "angle = 0.0\n",
    "for counter in range(64, 96):\n",
    "    angle += 2*pi/num_vertices \n",
    "    x = math.cos(angle)*radius\n",
    "    y = -0.1 + math.sin(angle)*radius\n",
    "    vertices[counter] = [x,y]\n",
    "\n",
    "radius = 0.78\n",
    "angle = 0.0\n",
    "for counter in range(96, 128):\n",
    "    angle += 2*pi/num_vertices \n",
    "    x = math.cos(angle)*radius\n",
    "    y = -0.1 + math.sin(angle)*radius\n",
    "    vertices[counter] = [x,y]\n",
    "\n",
    "radius = 0.90\n",
    "angle = 0.0\n",
    "for counter in range(128, 160):\n",
    "    angle += 2*pi/num_vertices \n",
    "    x = math.cos(angle)*radius\n",
    "    y = -0.1 + math.sin(angle)*radius\n",
    "    vertices[counter] = [x,y]\n",
    "\n",
    "vertices[160] = [-1.0,-1.0]\n",
    "vertices[161] = [-1.0,-0.5]\n",
    "vertices[162] = [1.0,-1.0]\n",
    "vertices[163] = [1.0,-0.5]\n",
    "\n",
    "# Montanhas:\n",
    "vertices[164] = [-1.0, -0.5]\n",
    "vertices[165] = [-0.85, -0.3]\n",
    "vertices[166] = [-0.7, -0.5]\n",
    "\n",
    "vertices[167] = [-0.7, -0.5]\n",
    "vertices[168] = [-0.55, -0.1]\n",
    "vertices[169] = [-0.4, -0.5]\n",
    "\n",
    "vertices[170] = [-0.4, -0.5]\n",
    "vertices[171] = [-0.25, -0.35]\n",
    "vertices[172] = [-0.1, -0.5]\n",
    "\n",
    "vertices[173] = [-0.1, -0.5]\n",
    "vertices[174] = [ 0.0, -0.32]\n",
    "vertices[175] = [ 0.1, -0.5]\n",
    "\n",
    "vertices[176] = [0.1, -0.5]\n",
    "vertices[177] = [ 0.25, -0.1]\n",
    "vertices[178] = [ 0.4, -0.5]\n",
    "\n",
    "vertices[179] = [0.4, -0.5]\n",
    "vertices[180] = [ 0.55, -0.25]\n",
    "vertices[181] = [ 0.7, -0.5]\n",
    "\n",
    "vertices[182] = [0.7, -0.5]\n",
    "vertices[183] = [ 0.85, -0.2]\n",
    "vertices[184] = [ 1.0, -0.5]\n",
    "\n",
    "#Nome:\n",
    "\n",
    "vertices[185] = [0.7, -0.95]\n",
    "vertices[186] = [0.725, -0.9]\n",
    "vertices[187] = [0.75, -0.95]\n",
    "\n",
    "vertices[188] = [0.712, -0.925]\n",
    "vertices[189] = [0.737, -0.925]\n",
    "\n",
    "vertices[190] = [0.77, -0.95]\n",
    "vertices[191] = [0.77, -0.9]\n",
    "vertices[192] = [0.82, -0.95]\n",
    "vertices[193] = [0.82, -0.9]\n",
    "\n",
    "vertices[194] = [0.84, -0.95]\n",
    "vertices[195] = [0.865, -0.9]\n",
    "vertices[196] = [0.89, -0.95]\n",
    "\n",
    "vertices[197] = [0.852, -0.925]\n",
    "vertices[198] = [0.877, -0.925]\n",
    "\n",
    "# Estrelas:\n",
    "for n in range(100):\n",
    "    x = random.random()\n",
    "    y = random.random()\n",
    "    vertices[199+n] = [x, y]\n",
    "\n",
    "for n in range(100):\n",
    "    x = (-1)*(random.random())\n",
    "    y = random.random()\n",
    "    vertices[298+n] = [x, y]\n",
    "\n"
   ]
  },
  {
   "cell_type": "code",
   "execution_count": 15,
   "metadata": {},
   "outputs": [],
   "source": [
    "# Request a buffer slot from GPU\n",
    "buffer = glGenBuffers(1)\n",
    "# Make this buffer the default one\n",
    "glBindBuffer(GL_ARRAY_BUFFER, buffer)\n"
   ]
  },
  {
   "cell_type": "code",
   "execution_count": 16,
   "metadata": {},
   "outputs": [],
   "source": [
    "# Upload data\n",
    "glBufferData(GL_ARRAY_BUFFER, vertices.nbytes, vertices, GL_DYNAMIC_DRAW)\n",
    "glBindBuffer(GL_ARRAY_BUFFER, buffer)"
   ]
  },
  {
   "cell_type": "code",
   "execution_count": 17,
   "metadata": {},
   "outputs": [],
   "source": [
    "# Bind the position attribute\n",
    "# --------------------------------------\n",
    "stride = vertices.strides[0]\n",
    "offset = ctypes.c_void_p(0)\n"
   ]
  },
  {
   "cell_type": "code",
   "execution_count": 18,
   "metadata": {},
   "outputs": [],
   "source": [
    "loc = glGetAttribLocation(program, \"position\")\n",
    "glEnableVertexAttribArray(loc)"
   ]
  },
  {
   "cell_type": "code",
   "execution_count": 19,
   "metadata": {},
   "outputs": [],
   "source": [
    "glVertexAttribPointer(loc, 2, GL_FLOAT, False, stride, offset)"
   ]
  },
  {
   "cell_type": "code",
   "execution_count": 20,
   "metadata": {},
   "outputs": [],
   "source": [
    "loc_color = glGetUniformLocation(program, \"color\")\n",
    "R = 1.0\n",
    "G = 0.0\n",
    "B = 0.0"
   ]
  },
  {
   "cell_type": "code",
   "execution_count": 21,
   "metadata": {},
   "outputs": [],
   "source": [
    "# Exibindo a janela\n",
    "glfw.show_window(window)"
   ]
  },
  {
   "cell_type": "code",
   "execution_count": 22,
   "metadata": {},
   "outputs": [],
   "source": [
    "while not glfw.window_should_close(window):\n",
    "\n",
    "    glfw.poll_events() \n",
    "\n",
    "    \n",
    "    glClear(GL_COLOR_BUFFER_BIT) \n",
    "    glClearColor(0.552, 0, 0.003, 1.0)\n",
    "\n",
    "    # Camadas do sol:\n",
    "    glUniform4f(loc_color, 0.776, 0.105, 0.066, 1.0) ### modificando a cor do objeto!\n",
    "    glDrawArrays(GL_TRIANGLE_FAN, 128, 32)  \n",
    "\n",
    "    # Estrelas:\n",
    "    glUniform4f(loc_color, 1.0, 1.0, 1.0, 1.0) ### modificando a cor do objeto!\n",
    "    glDrawArrays(GL_POINTS, 199, 200)\n",
    "\n",
    "    # Mais camadas do sol:\n",
    "    glUniform4f(loc_color, 1, 0.360, 0.039, 1.0) ### modificando a cor do objeto!\n",
    "    glDrawArrays(GL_TRIANGLE_FAN, 96, 32)  \n",
    "\n",
    "    glUniform4f(loc_color, 0.949, 0.549, 0.058, 1.0) ### modificando a cor do objeto!\n",
    "    glDrawArrays(GL_TRIANGLE_FAN, 64, 32)    \n",
    "\n",
    "    glUniform4f(loc_color, 1, 0.670, 0.062, 1.0) ### modificando a cor do objeto!\n",
    "    glDrawArrays(GL_TRIANGLE_FAN, 32, 32)    \n",
    "\n",
    "    glUniform4f(loc_color, 0.949, 0.772, 0.239, 1.0) ### modificando a cor do objeto!\n",
    "    glDrawArrays(GL_TRIANGLE_FAN, 0, 32)\n",
    "  \n",
    "    glUniform4f(loc_color, 0, 0, 0, 1.0) #Cor preta\n",
    "    # Chão:\n",
    "    glDrawArrays(GL_TRIANGLE_STRIP, 160, 4)\n",
    "    # Montanhas:\n",
    "    glDrawArrays(GL_TRIANGLES, 164, 21)\n",
    "\n",
    "    glUniform4f(loc_color, 1.0, 1.0, 1.0, 1.0) # Cor branca\n",
    "    # Assinatura:\n",
    "    glDrawArrays(GL_LINE_STRIP, 185, 3)\n",
    "    glDrawArrays(GL_LINES, 188, 2)\n",
    "    glDrawArrays(GL_LINE_STRIP, 190, 4)\n",
    "    glDrawArrays(GL_LINE_STRIP, 194, 3)\n",
    "    glDrawArrays(GL_LINES, 197, 2)    \n",
    "\n",
    "    glfw.swap_buffers(window)\n",
    "\n",
    "glfw.terminate()"
   ]
  },
  {
   "cell_type": "markdown",
   "metadata": {},
   "source": [
    "# Exercício\n",
    "\n",
    "Modifique esse código para variar a cor do objeto dentro do loop principal da janela.\n"
   ]
  }
 ],
 "metadata": {
  "finalized": {
   "timestamp": 1583114796072,
   "trusted": true
  },
  "kernelspec": {
   "name": "python38564bitb092ec9ef1f142fcb39ba385da4c09c1",
   "display_name": "Python 3.8.5 64-bit"
  },
  "language_info": {
   "codemirror_mode": {
    "name": "ipython",
    "version": 3
   },
   "file_extension": ".py",
   "mimetype": "text/x-python",
   "name": "python",
   "nbconvert_exporter": "python",
   "pygments_lexer": "ipython3",
   "version": "3.8.5"
  },
  "metadata": {
   "interpreter": {
    "hash": "31f2aee4e71d21fbe5cf8b01ff0e069b9275f58929596ceb00d14d90e3e16cd6"
   }
  }
 },
 "nbformat": 4,
 "nbformat_minor": 2
}
